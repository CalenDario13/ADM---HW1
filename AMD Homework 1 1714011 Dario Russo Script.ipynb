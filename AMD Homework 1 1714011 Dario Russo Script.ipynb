{
 "cells": [
  {
   "cell_type": "markdown",
   "metadata": {},
   "source": [
    "# Part 1: Python Exercises:"
   ]
  },
  {
   "cell_type": "markdown",
   "metadata": {},
   "source": [
    "## 1. Intoduction:"
   ]
  },
  {
   "cell_type": "markdown",
   "metadata": {},
   "source": [
    "- Say \"Hello, World!\" With Python:"
   ]
  },
  {
   "cell_type": "code",
   "execution_count": null,
   "metadata": {},
   "outputs": [],
   "source": [
    "print(\"Hello, World!\")"
   ]
  },
  {
   "cell_type": "markdown",
   "metadata": {},
   "source": [
    "- Python If-Else:"
   ]
  },
  {
   "cell_type": "code",
   "execution_count": null,
   "metadata": {},
   "outputs": [],
   "source": [
    "n = int(input().strip())\n",
    "\n",
    "if n % 2 != 0: # \"%\" => let's check wheter the number is not divisible for two \n",
    "    print('Weird')\n",
    "elif n in range (1,6):\n",
    "    print('Not Weird')\n",
    "elif n % 2 == 0 and n in range (5,21): # => with and both the condition must be true\n",
    "    print('Weird')\n",
    "elif n % 2 == 0 and n > 20:\n",
    "    print('Not Weird')"
   ]
  },
  {
   "cell_type": "markdown",
   "metadata": {},
   "source": [
    "- Arithmetic Operators:"
   ]
  },
  {
   "cell_type": "code",
   "execution_count": null,
   "metadata": {},
   "outputs": [],
   "source": [
    "import sys\n",
    "\n",
    "a = sys.stdin.readline()\n",
    "b = sys.stdin.readline()\n",
    "\n",
    "print(int(a) + int(b))\n",
    "print(int(a) - int(b))\n",
    "print(int(a) * int(b))"
   ]
  },
  {
   "cell_type": "markdown",
   "metadata": {},
   "source": [
    "- Python: Division"
   ]
  },
  {
   "cell_type": "code",
   "execution_count": null,
   "metadata": {},
   "outputs": [],
   "source": [
    "a = int(input())\n",
    "b = int(input())\n",
    "\n",
    "print(int(a/b)) # => It returns an int\n",
    "print(float(a)/float(b)) # => This returns a a float"
   ]
  },
  {
   "cell_type": "markdown",
   "metadata": {},
   "source": [
    "- Loops:"
   ]
  },
  {
   "cell_type": "code",
   "execution_count": null,
   "metadata": {},
   "outputs": [],
   "source": [
    "n = int(input())\n",
    "\n",
    "for square in range(0,n): # => For no negative \"(0 to n)\"\n",
    "    print(square**2)"
   ]
  },
  {
   "cell_type": "markdown",
   "metadata": {},
   "source": [
    "- Write a function:"
   ]
  },
  {
   "cell_type": "code",
   "execution_count": null,
   "metadata": {},
   "outputs": [],
   "source": [
    "import re\n",
    "\n",
    "def is_leap(year):\n",
    "    leap = False\n",
    "    lastdigits = re.search(r'0{2}$', str(year)) # => Let's check if it is the beginning of the century, they have two zeros at the end(\"0{2}$\")\n",
    "\n",
    "    if lastdigits:\n",
    "        if year % 400 == 0:\n",
    "            leap = True\n",
    "        else:\n",
    "            leap = False\n",
    "    else:\n",
    "        if year % 4 == 0:\n",
    "            leap = True\n",
    "        else:\n",
    "            leap = False\n",
    "\n",
    "    return leap\n",
    "\n",
    "year = int(input())\n",
    "print(is_leap(year))"
   ]
  },
  {
   "cell_type": "markdown",
   "metadata": {},
   "source": [
    "- Print Function:"
   ]
  },
  {
   "cell_type": "code",
   "execution_count": null,
   "metadata": {},
   "outputs": [],
   "source": [
    "for i in range(1, int(input())+1):\n",
    "    print(i, end=\"\") # => \"end\"  says what python do between to print action (i.e. \"\\n\" each number in a new line or \" \" each number separated by a space) "
   ]
  },
  {
   "cell_type": "markdown",
   "metadata": {},
   "source": [
    "## 2. Basic Data Typse:"
   ]
  },
  {
   "cell_type": "markdown",
   "metadata": {},
   "source": [
    "- List Comprehensions:"
   ]
  },
  {
   "cell_type": "code",
   "execution_count": null,
   "metadata": {},
   "outputs": [],
   "source": [
    "x = int(input())\n",
    "y = int(input())\n",
    "z = int(input())\n",
    "n = int(input())\n",
    "\n",
    "def array(x, y, z): # Let's check all possible combinations:\n",
    "    l = []\n",
    "    for i in range(x+1):\n",
    "        for j in range(y+1):\n",
    "            for k in range(z + 1):\n",
    "                \n",
    "                if i + j + k != n: # => I happend only the numbers which the sum is different to n\n",
    "                    l.append([i, j, k]) \n",
    "    return l\n",
    "\n",
    "print(array(x,y,z))\n",
    "\n"
   ]
  },
  {
   "cell_type": "markdown",
   "metadata": {},
   "source": [
    "- Find the Runner-Up Score!"
   ]
  },
  {
   "cell_type": "code",
   "execution_count": null,
   "metadata": {},
   "outputs": [],
   "source": [
    "if __name__ == '__main__':\n",
    "    \n",
    "    n = int(input())\n",
    "    arr = list(map(int, input().split()))\n",
    "\n",
    "    k = [] # => I put here each element not repeted\n",
    "    for i in range(len(arr)): # Let's sdelet the doubles\n",
    "        for j in range(len(arr)):\n",
    "            if arr[i] != arr[j] and arr[j] not in k: # I put in the new list only if the numer is not already there\n",
    "                k.append(arr[j])\n",
    "\n",
    "    k.sort()\n",
    "    print(k[-2]) # \"k\" is sorted and dosen't have any double, so the second to last element is the second score"
   ]
  },
  {
   "cell_type": "markdown",
   "metadata": {},
   "source": [
    "- Nested Lists:"
   ]
  },
  {
   "cell_type": "code",
   "execution_count": null,
   "metadata": {},
   "outputs": [],
   "source": [
    "n = int(input())\n",
    "\n",
    "classes = [] # => Append each input in a nested list\n",
    "for i in range(n):\n",
    "    student = input()\n",
    "    grade = input()\n",
    "    classes.append([student, float(grade)])\n",
    "    \n",
    "box = []\n",
    "for i in range(len(classes)): # => Let's sort for the grade (second element in the sublist)\n",
    "    for j in range(len(classes)):\n",
    "        if classes[i][1] < classes[j][1]:\n",
    "            box = classes[i] # => I do it in order not to loose any number \n",
    "            classes[i] = classes[j]\n",
    "            classes[j] = box\n",
    "            \n",
    "new = []\n",
    "for i in range(len(classes)): # => Let's create a new list with only the grades\n",
    "    new.append(classes[i][1])\n",
    "    \n",
    "single = []\n",
    "for i in new: # => Let's delete the doubles\n",
    "    if i not in single:\n",
    "        single.append(i)\n",
    "\n",
    "seconds = []       \n",
    "for i in range(len(classes)): # => Let's get the runners up, they may be more than one\n",
    "    if classes[i][1] == single[1]:\n",
    "        seconds.append(classes[i])\n",
    "\n",
    "for i in range(len(seconds)): # => Let's print the name of the seconds\n",
    "    print(seconds[i][0])"
   ]
  },
  {
   "cell_type": "markdown",
   "metadata": {},
   "source": [
    "- Finding the percentage:"
   ]
  },
  {
   "cell_type": "code",
   "execution_count": null,
   "metadata": {},
   "outputs": [],
   "source": [
    "n = int(input())\n",
    "dictionary = {}\n",
    "\n",
    "grades = []\n",
    "students =[]\n",
    "for i in range(n):\n",
    "    stu, *gra = list(input().split())\n",
    "    students.append(stu)\n",
    "    grades.append(list(map(float, gra)))\n",
    "    \n",
    "for x in range(len(students)): # => Let's make a dictionary which has as key the name of students and as values a list with thei grade\n",
    "    dictionary[students[x]] = grades[x]\n",
    "    \n",
    "who = input() # Ask user the name of student of whom we ant to know the mean\n",
    "m = sum(dictionary[who])/len(dictionary[who]) # This is the mean\n",
    "\n",
    "print('%.2f' % m) # It prints with two decimal figures"
   ]
  },
  {
   "cell_type": "markdown",
   "metadata": {},
   "source": [
    "- Lists:"
   ]
  },
  {
   "cell_type": "code",
   "execution_count": null,
   "metadata": {},
   "outputs": [],
   "source": [
    "n = int(input())\n",
    "l = []\n",
    "\n",
    "for _ in range(n):\n",
    "    \n",
    "    op = list(input().split())\n",
    "    \n",
    "    if op[0] == \"insert\": # => Let's make a possible action for any possible input\n",
    "        l.insert(int(op[1]), int(op[2]))\n",
    "    elif op[0] == \"print\":\n",
    "        print(l)\n",
    "    elif op[0] == \"remove\":\n",
    "        l.remove(int(op[1]))\n",
    "    elif op[0] == \"append\":\n",
    "        l.append(int(op[1]))\n",
    "    elif op[0] == \"sort\":\n",
    "        l.sort()\n",
    "    elif op[0] == \"pop\":\n",
    "        l.pop()\n",
    "    else:\n",
    "        l.reverse()"
   ]
  },
  {
   "cell_type": "markdown",
   "metadata": {},
   "source": [
    " - Tuples:"
   ]
  },
  {
   "cell_type": "code",
   "execution_count": null,
   "metadata": {},
   "outputs": [],
   "source": [
    "n = int(input())\n",
    "il = list(map(int, input().split()))\n",
    "tp = tuple(il)\n",
    "\n",
    "print(hash(tp))"
   ]
  },
  {
   "cell_type": "markdown",
   "metadata": {},
   "source": [
    "## 3. Strings:"
   ]
  },
  {
   "cell_type": "markdown",
   "metadata": {},
   "source": [
    "- sWAP cASE"
   ]
  },
  {
   "cell_type": "code",
   "execution_count": null,
   "metadata": {},
   "outputs": [],
   "source": [
    "def swap_case(s):\n",
    "    final_s = \"\"\n",
    "    for character in s:\n",
    "        if character.isalpha(): # => Let's check if it is a letter\n",
    "            if character.islower(): # => Transform lowercase in uppercase and viceversa and append to the new string\n",
    "                final_s += character.upper()\n",
    "            else:\n",
    "                final_s += character.lower()\n",
    "        else:\n",
    "            final_s += character # => If it's not a letter just add the character to the new string\n",
    "    return final_s\n",
    "\n",
    "if __name__ == '__main__':\n",
    "    s = input()\n",
    "    result = swap_case(s)\n",
    "    print(result)"
   ]
  },
  {
   "cell_type": "markdown",
   "metadata": {},
   "source": [
    "- String SPlit and Join"
   ]
  },
  {
   "cell_type": "code",
   "execution_count": null,
   "metadata": {},
   "outputs": [],
   "source": [
    "def split_and_join(line):\n",
    "    st1 = line.split(\" \") # It creates a list with all words separated by \" \"\n",
    "    st2 = \"-\".join(st1)# It returns a word with the joinde elements of the list by a \"-\"\n",
    "    return st2\n",
    "\n",
    "if __name__ == '__main__':\n",
    "    \n",
    "    line = input()\n",
    "    result = split_and_join(line)\n",
    "    print(result)"
   ]
  },
  {
   "cell_type": "markdown",
   "metadata": {},
   "source": [
    "- What's Your Name?"
   ]
  },
  {
   "cell_type": "code",
   "execution_count": null,
   "metadata": {},
   "outputs": [],
   "source": [
    "def print_full_name(a, b):\n",
    "    word = \"Hello {} {}! You just delved into python.\"\n",
    "    if len(a) + len(b) < 10: # => Let's see if the constrain given is true\n",
    "     print(word.format(a,b)) # It says what python must print in the graph brackets\n",
    "    else:\n",
    "        print(\"Error!\")\n",
    "\n",
    "if __name__ == '__main__':\n",
    "    first_name = input()\n",
    "    last_name = input()\n",
    "    print_full_name(first_name, last_name)"
   ]
  },
  {
   "cell_type": "markdown",
   "metadata": {},
   "source": [
    "- Mutations:"
   ]
  },
  {
   "cell_type": "code",
   "execution_count": null,
   "metadata": {},
   "outputs": [],
   "source": [
    "def mutate_string(string, position, character):\n",
    "    l = list(string) # => Let's mutate a string in a list\n",
    "    l[position] = character # => Let's replace the specified letter with the new one\n",
    "    return \"\".join(l) # => Let's transform again the word in a string\n",
    "\n",
    "if __name__ == '__main__':\n",
    "    s = input()\n",
    "    i, c = input().split()\n",
    "    s_new = mutate_string(s, int(i), c)\n",
    "    print(s_new)"
   ]
  },
  {
   "cell_type": "markdown",
   "metadata": {},
   "source": [
    "- Find a String:"
   ]
  },
  {
   "cell_type": "code",
   "execution_count": null,
   "metadata": {},
   "outputs": [],
   "source": [
    "def count_substring(string, sub_string):\n",
    "    counter = 0\n",
    "    if len(string)>= 1 and len(string) <= 200: # Let's Check the constrains\n",
    "        for i in range(len(string)): # Each time we go head in the word and check only the number of letters equal to our substring\n",
    "            if string.find(sub_string, i, (i + (len(sub_string)))) != -1: # find(sub_string, starting index, ending index)\n",
    "                counter += 1 # If I find a match I add one\n",
    "    return counter\n",
    "\n",
    "if __name__ == '__main__':\n",
    "    string = input().strip()\n",
    "    sub_string = input().strip()\n",
    "    \n",
    "    count = count_substring(string, sub_string)\n",
    "    print(count)"
   ]
  },
  {
   "cell_type": "markdown",
   "metadata": {},
   "source": [
    "- String Validators:"
   ]
  },
  {
   "cell_type": "code",
   "execution_count": null,
   "metadata": {},
   "outputs": [],
   "source": [
    "# Let's make a function for each possible check\n",
    "\n",
    "def any_alnum(string):\n",
    "    counter_1 = 0\n",
    "    for character in string:\n",
    "        if character.isalnum() == True:\n",
    "            counter_1 += 1\n",
    "            break  # => We want at least one alphanumeric, so as soon as we find one we will stop the loop\n",
    "    print(counter_1 == 1)\n",
    "\n",
    "def any_alpha(string):\n",
    "    counter_2 = 0\n",
    "    for character in string:\n",
    "        if character.isalpha() == True:\n",
    "            counter_2 += 1\n",
    "            break\n",
    "    print(counter_2 == 1)\n",
    "     \n",
    "\n",
    "def any_digit(string):\n",
    "    counter_3 = 0\n",
    "    for character in string:\n",
    "        if character.isdigit() == True:\n",
    "            counter_3 += 1\n",
    "            break\n",
    "    print(counter_3 == 1)\n",
    "\n",
    "\n",
    "def any_lower(string):\n",
    "    counter_4 = 0\n",
    "    for character in string:\n",
    "        if character.islower():\n",
    "            counter_4 += 1\n",
    "            break\n",
    "    print(counter_4 == 1)\n",
    "\n",
    "\n",
    "def any_upper(string):\n",
    "    counter_5 = 0\n",
    "    for character in string:\n",
    "        if character.isupper():\n",
    "            counter_5 += 1\n",
    "            break\n",
    "    print(counter_5 == 1)\n",
    "\n",
    "\n",
    "if __name__ == '__main__':\n",
    "    \n",
    "    s = input()\n",
    "    \n",
    "    any_alnum(s)\n",
    "    any_alpha(s)\n",
    "    any_digit(s)\n",
    "    any_lower(s)\n",
    "    any_upper(s)"
   ]
  },
  {
   "cell_type": "markdown",
   "metadata": {},
   "source": [
    "- Text Alignment:"
   ]
  },
  {
   "cell_type": "code",
   "execution_count": null,
   "metadata": {},
   "outputs": [],
   "source": [
    "# Print:\n",
    "# Replace all ______ with rjust, ljust or center. \n",
    "# I have done by trying again and again\n",
    "thickness = int(input()) #This must be an odd number\n",
    "c = 'H'\n",
    "\n",
    "#Top Cone\n",
    "for i in range(thickness):\n",
    "    print((c*i).rjust(thickness-1)+c+(c*i).ljust(thickness-1))\n",
    "\n",
    "#Top Pillars\n",
    "for i in range(thickness+1):\n",
    "    print((c*thickness).center(thickness*2)+(c*thickness).center(thickness*6))\n",
    "\n",
    "#Middle Belt\n",
    "for i in range((thickness+1)//2):\n",
    "    print((c*thickness*5).center(thickness*6))    \n",
    "\n",
    "#Bottom Pillars\n",
    "for i in range(thickness+1):\n",
    "    print((c*thickness).center(thickness*2)+(c*thickness).center(thickness*6))    \n",
    "\n",
    "#Bottom Cone\n",
    "for i in range(thickness):\n",
    "    print(((c*(thickness-i-1)).rjust(thickness)+c+(c*(thickness-i-1)).ljust(thickness)).rjust(thickness*6)) "
   ]
  },
  {
   "cell_type": "markdown",
   "metadata": {},
   "source": [
    "- Text Wrap:"
   ]
  },
  {
   "cell_type": "code",
   "execution_count": null,
   "metadata": {},
   "outputs": [],
   "source": [
    "import textwrap\n",
    "\n",
    "def wrap(string, max_width):\n",
    "    t = textwrap.fill(string, max_width) # It splits the stings in more lines of \"max_width\" length\n",
    "    return t\n",
    "\n",
    "if __name__ == '__main__':\n",
    "    string, max_width = input(), int(input())\n",
    "    result = wrap(string, max_width)\n",
    "    print(result)"
   ]
  },
  {
   "cell_type": "markdown",
   "metadata": {},
   "source": [
    "- Designer Door Mat:"
   ]
  },
  {
   "cell_type": "code",
   "execution_count": null,
   "metadata": {},
   "outputs": [],
   "source": [
    "import math\n",
    "\n",
    "h, l = list(map(int, input().split()))\n",
    "\n",
    "# Let's get the central line diving by 2 the height and rounding up\n",
    "centralLine = int(math.ceil(h / 2))\n",
    "\n",
    "# Every piece of the mat is composed by one of this 2 combinations of symbols\n",
    "# They are formed by 3 character and in this way instead of being an hx(h*3) it becomes hxh\n",
    "\n",
    "tr =\"---\"\n",
    "pn =\".|.\"\n",
    "\n",
    "\n",
    "for currentLine in range(1,h+1): # I have found this range by trials and error strategy\n",
    "   \n",
    "    # central line\n",
    "    \n",
    "    if currentLine == centralLine :\n",
    "        for j in range(int((h-3)/2)): # Left side, -3 is because -welcome- is long 3 triples, /2 is because it's just half side\n",
    "            print(tr, end='')\n",
    "        print (\"-WELCOME-\", end='') # Central\n",
    "        for j in range(int((h-3)/2)): # Right side (same of left)\n",
    "            print(tr, end='')\n",
    "        print(\"\")\n",
    "\n",
    "    # other lines\n",
    "    \n",
    "    else:\n",
    "        \n",
    "        # left --- part\n",
    "        \n",
    "        for j in range (abs(currentLine - centralLine)): # Distance from the center\n",
    "            print(tr,end='')\n",
    "\n",
    "        # .|. part\n",
    "        \n",
    "        mirrorLine = currentLine\n",
    "        if (currentLine > centralLine):  # Mirror line is the line with the same distance from the center on the other side\n",
    "            mirrorLine = (h+1) - currentLine\n",
    "\n",
    "        for j in range((mirrorLine*2)-1): # The central pn is constant. Afer that every line get +2 pn ( one left and one right)\n",
    "            print(pn, end='')\n",
    "\n",
    "        # right --- part\n",
    "        for j in range(abs(currentLine - centralLine)):\n",
    "            print(tr, end='')\n",
    "\n",
    "        print(\"\")\n"
   ]
  },
  {
   "cell_type": "markdown",
   "metadata": {},
   "source": [
    "- String Formatting:"
   ]
  },
  {
   "cell_type": "code",
   "execution_count": null,
   "metadata": {},
   "outputs": [],
   "source": [
    "def print_formatted(number):\n",
    "    for i in range(1,n+1):\n",
    "        # All distance from the right are set as the leng if the number in binary version, in this way works\n",
    "        print(str(i).rjust(len(\"{0:b}\".format(n))), \"{0:o}\".format(i).rjust(len(\"{0:b}\".format(n))), \"{:2X}\".format(i).upper().rjust(len(\"{0:b}\".format(n))), \"{0:b}\".format(i).rjust(len(\"{0:b}\".format(n))))\n",
    "\n",
    "\n",
    "if __name__ == '__main__':\n",
    "    n = int(input())\n",
    "    print_formatted(n)"
   ]
  },
  {
   "cell_type": "markdown",
   "metadata": {},
   "source": [
    "- Capitalize:"
   ]
  },
  {
   "cell_type": "code",
   "execution_count": null,
   "metadata": {},
   "outputs": [],
   "source": [
    "def solve(s):\n",
    "    name = \"\" # => Let's create another empty string where we put the modified character of the original word\n",
    "    for i in range(len(s)):\n",
    "        if i == 0: # The first word is for sure to be capitalized\n",
    "            name = name + s[i].upper()\n",
    "        #We must capitalize each character at beginning of a word, \n",
    "        # It is at the beginning if it has a space before'''\n",
    "        elif s[i - 1] == \" \" and s[i].islower() == True:  \n",
    "            name = name + s[i].upper()\n",
    "        else:\n",
    "            name = name + s[i] # Otherwise, just add the letter to the new string\n",
    "    return name\n",
    "\n",
    "# This part is different from the one in HackeRank (because they use an os PATH)\n",
    "if __name__ == '__main__':\n",
    "    \n",
    "    s = input()\n",
    "    print(solve(s))"
   ]
  },
  {
   "cell_type": "markdown",
   "metadata": {},
   "source": [
    "- The Minion Game:"
   ]
  },
  {
   "cell_type": "code",
   "execution_count": null,
   "metadata": {},
   "outputs": [],
   "source": [
    "def minion_game(string):\n",
    "    \n",
    "    consonant = \"bcdfghljklmnpqrstvwxyz\"\n",
    "    vowel = \"aeiou\"\n",
    "    k_score = 0\n",
    "    s_score = 0\n",
    "\n",
    "    # Idea: guys can generate for each letter as many combination as the number of letters from the one chosen to the end.  \n",
    "    # possible combinations for s[i]: |i - len(word)|\n",
    "    for i in range(len(s)):\n",
    "        if s[i].lower() in consonant: # => Let's check it is Stuart or Kevin letter\n",
    "            s_score += len(s) - i # Let's work out the score\n",
    "        else:\n",
    "            k_score += len(s) - i\n",
    "\n",
    "    # Let's print the outcome:\n",
    "    \n",
    "    if s_score > k_score: \n",
    "        print(\"Stuart\", s_score)\n",
    "    elif s_score < k_score:\n",
    "        print(\"Kevin\", k_score)\n",
    "    else:\n",
    "        print(\"Draw\")\n",
    "\n",
    "\n",
    "if __name__ == '__main__':\n",
    "    s = input()\n",
    "    minion_game(s)"
   ]
  },
  {
   "cell_type": "markdown",
   "metadata": {},
   "source": [
    "- Merge the Tools!"
   ]
  },
  {
   "cell_type": "code",
   "execution_count": null,
   "metadata": {},
   "outputs": [],
   "source": [
    "def merge_the_tools(string, k):\n",
    "    \n",
    "    n = len(string)\n",
    "    splitter = n//k\n",
    "    \n",
    "    final_r = []\n",
    "    for i in range(splitter): # Times I want split (instead we are going over)\n",
    "        sub_string = (string[(k*i):(k*(i+1))]) # Let's get from first position (k is the length of the sub)\n",
    "        \n",
    "        box = \"\"  # I put the box here, so it is reset each time the first cycle starts\n",
    "        for letter in sub_string: # => Let's deleted repeted letter\n",
    "            if letter not in box:\n",
    "                box = box + letter # In the box we put only character not repeted\n",
    "        final_r.append(box) # Each sublist in final_r is a split with no repeted characters\n",
    "        \n",
    "    for i in range(len(final_r)): # => Let's Print the reult in different rows\n",
    "        print(final_r[i])\n",
    "\n",
    "if __name__ == '__main__':\n",
    "    \n",
    "    string, k = input(), int(input())\n",
    "    merge_the_tools(string, k)"
   ]
  },
  {
   "cell_type": "markdown",
   "metadata": {},
   "source": [
    "## 4. Sets:"
   ]
  },
  {
   "cell_type": "markdown",
   "metadata": {},
   "source": [
    "- Introduction to Sets:"
   ]
  },
  {
   "cell_type": "code",
   "execution_count": null,
   "metadata": {},
   "outputs": [],
   "source": [
    "def average(array):\n",
    "    av = sum(set(arr))/len(set(arr)) # Mean\n",
    "    return av\n",
    "\n",
    "if __name__ == '__main__':\n",
    "    n = int(input())\n",
    "    arr = list(map(int, input().split()))\n",
    "    result = average(arr)\n",
    "    print(result)"
   ]
  },
  {
   "cell_type": "markdown",
   "metadata": {},
   "source": [
    "- No Idea!"
   ]
  },
  {
   "cell_type": "code",
   "execution_count": null,
   "metadata": {},
   "outputs": [],
   "source": [
    "from collections import Counter\n",
    "\n",
    "def happiness(lst, A, B):\n",
    "\n",
    "    dic_lst = Counter(lst) # => Let's check how many times each element is repeted\n",
    "    happy = 0\n",
    "\n",
    "    # Let's check if each element is in any set and do the operation required\n",
    "    for key, value in dic_lst.items():\n",
    "        if key in A:\n",
    "            happy += value\n",
    "        elif key in B:\n",
    "            happy -= value\n",
    "    return happy\n",
    "\n",
    "if __name__ == '__main__':\n",
    "\n",
    "    n, m = list(map(int, input().split()))\n",
    "    lst = list(map(int, input().split()))\n",
    "    A = set(map(int, input().split()))\n",
    "    B = set(map(int, input().split()))\n",
    "\n",
    "    print(happiness(lst, A, B))"
   ]
  },
  {
   "cell_type": "markdown",
   "metadata": {},
   "source": [
    "- Symmetric Difference:"
   ]
  },
  {
   "cell_type": "code",
   "execution_count": null,
   "metadata": {},
   "outputs": [],
   "source": [
    "def symmetric_difference(N, M):\n",
    "   \n",
    "    N = set(N)\n",
    "    M = set(M)\n",
    "    # There is also the direct function\n",
    "    # Anyway it is the difference between the union and the intersection of A and B\n",
    "    I = M.intersection(N)\n",
    "    U = M.union(N)\n",
    "    D = U.difference(I)\n",
    "    \n",
    "    return sorted(list(D))\n",
    "\n",
    "\n",
    "if __name__ == \"__main__\":\n",
    "  \n",
    "    m = int(input())\n",
    "    M = list(map(int, input().split()))\n",
    "    n = int(input())\n",
    "    N = list(map(int, input().split()))\n",
    "    \n",
    "    simd = symmetric_difference(N, M)\n",
    "    for el in simd:\n",
    "        print(el)"
   ]
  },
  {
   "cell_type": "markdown",
   "metadata": {},
   "source": [
    "- Set .add():"
   ]
  },
  {
   "cell_type": "code",
   "execution_count": null,
   "metadata": {},
   "outputs": [],
   "source": [
    "def country_stamps():\n",
    "    col = len(country)\n",
    "    return col\n",
    "\n",
    "if __name__ == \"__main__\":\n",
    "\n",
    "    n = int(input())\n",
    "    country = set() # Let's get only once each Country\n",
    "    for _ in range(n):\n",
    "        state = input()\n",
    "        country.add(state)\n",
    "    \n",
    "    print(country_stamps())"
   ]
  },
  {
   "cell_type": "markdown",
   "metadata": {},
   "source": [
    "- Set .discard(), .remove() & .pop():"
   ]
  },
  {
   "cell_type": "code",
   "execution_count": null,
   "metadata": {},
   "outputs": [],
   "source": [
    "if __name__ == \"__main__\":\n",
    "\n",
    "    s = int(input())\n",
    "    S = set((map(int, input().split())))\n",
    "    N = int(input())\n",
    "\n",
    "    for _ in range(N):\n",
    "\n",
    "        op = list(input().split())\n",
    "        \n",
    "        # Let's ste the possible operation thta the user can ask to compute:\n",
    "        \n",
    "        if op[0] == \"pop\":\n",
    "            S.pop()\n",
    "        elif op[0] == \"remove\":\n",
    "            S.remove(int(op[1]))\n",
    "        elif op[0] == \"discard\":\n",
    "            S.discard(int(op[1]))\n",
    "            \n",
    "    print(sum(S))"
   ]
  },
  {
   "cell_type": "markdown",
   "metadata": {},
   "source": [
    "- Set .union() Operation:"
   ]
  },
  {
   "cell_type": "code",
   "execution_count": null,
   "metadata": {},
   "outputs": [],
   "source": [
    "def at_least_one(a, b):\n",
    "    \n",
    "    U = a.union(b)\n",
    "    return len(U)\n",
    "\n",
    "if __name__ == \"__main__\":\n",
    "\n",
    "    n = int(input())\n",
    "    english = set(map(int, input().split()))\n",
    "    s = int(input())\n",
    "    french = set(map(int, input().split()))\n",
    "\n",
    "    print(at_least_one(english, french))"
   ]
  },
  {
   "cell_type": "markdown",
   "metadata": {},
   "source": [
    "- Set .intersection() Operation:"
   ]
  },
  {
   "cell_type": "code",
   "execution_count": null,
   "metadata": {},
   "outputs": [],
   "source": [
    "def sub_both(a, b):\n",
    "    I = a & b\n",
    "    return len(I)\n",
    "\n",
    "if __name__ == \"__main__\":\n",
    "\n",
    "    n = int(input())\n",
    "    english = set(map(int, input().split()))\n",
    "    s = int(input())\n",
    "    french = set(map(int, input().split()))\n",
    "\n",
    "    print(sub_both(english, french))"
   ]
  },
  {
   "cell_type": "markdown",
   "metadata": {},
   "source": [
    "- Set .difference() Operation"
   ]
  },
  {
   "cell_type": "code",
   "execution_count": null,
   "metadata": {},
   "outputs": [],
   "source": [
    "def sub_both(a, b):\n",
    "    D = a.difference(b)\n",
    "    return len(D)\n",
    "\n",
    "if __name__ == \"__main__\":\n",
    "\n",
    "    n = int(input())\n",
    "    english = set(map(int, input().split()))\n",
    "    s = int(input())\n",
    "    french = set(map(int, input().split()))\n",
    "\n",
    "    print(sub_both(english, french))"
   ]
  },
  {
   "cell_type": "markdown",
   "metadata": {},
   "source": [
    "- Set .symmetric_difference() Operation:"
   ]
  },
  {
   "cell_type": "code",
   "execution_count": null,
   "metadata": {},
   "outputs": [],
   "source": [
    "def sub_both(a, b):\n",
    "    SDiff = a.symmetric_difference(b)\n",
    "    return len(SDiff)\n",
    "\n",
    "if __name__ == \"__main__\":\n",
    "\n",
    "    n = int(input())\n",
    "    english = set(map(int, input().split()))\n",
    "    s = int(input())\n",
    "    french = set(map(int, input().split()))\n",
    "\n",
    "    print(sub_both(english, french))"
   ]
  },
  {
   "cell_type": "markdown",
   "metadata": {},
   "source": [
    "- Set Mutations:"
   ]
  },
  {
   "cell_type": "code",
   "execution_count": null,
   "metadata": {},
   "outputs": [],
   "source": [
    "if __name__ == \"__main__\":\n",
    "\n",
    "    a = int(input())\n",
    "    main = set((map(int, input().split())))\n",
    "    N = int(input())\n",
    "\n",
    "    for _ in range(N):\n",
    "    \n",
    "        op = list(input().split())\n",
    "        second = set((map(int, input().split())))\n",
    "        \n",
    "     # Let's collect all possible operation that the user can ask us\n",
    "        \n",
    "        if op[0] == \"update\":\n",
    "            main.update(second)\n",
    "        elif op[0] == \"intersection_update\":\n",
    "            main.intersection_update(second)\n",
    "        elif op[0] == \"union_update\":\n",
    "            main.union_update(second)\n",
    "        elif op[0] == \"difference_update\":\n",
    "            main.difference_update(second)\n",
    "        elif op[0] == \"symmetric_difference_update\":\n",
    "            main.symmetric_difference_update(second)\n",
    "\n",
    "    print(sum(main))\n"
   ]
  },
  {
   "cell_type": "markdown",
   "metadata": {},
   "source": [
    "- The Captain's Room"
   ]
  },
  {
   "cell_type": "code",
   "execution_count": null,
   "metadata": {},
   "outputs": [],
   "source": [
    "import collections \n",
    "\n",
    "if __name__ == \"__main__\":\n",
    "\n",
    "    n = int(input())\n",
    "    rooms = list(map(int, input().split()))\n",
    "    # With Counter let's see how many times a room is repeted\n",
    "    room_count = collections.Counter(rooms)\n",
    "    # Th capitan's room is the only one repted once, so let's sort the counter dictionary and get last element.\n",
    "    capitan_room = list(room_count.most_common()[-1])\n",
    "    print(capitan_room[0])"
   ]
  },
  {
   "cell_type": "markdown",
   "metadata": {},
   "source": [
    "- Check Subset:"
   ]
  },
  {
   "cell_type": "code",
   "execution_count": null,
   "metadata": {},
   "outputs": [],
   "source": [
    "def is_sub_set(a, b):\n",
    "    \n",
    "    # Let's just check whether all the element of sub is also in the main (thanks to a join)\n",
    "    \n",
    "    if b & a == a: \n",
    "        return True\n",
    "    else:\n",
    "        return False\n",
    "\n",
    "if __name__ == \"__main__\":\n",
    "   \n",
    "    t = int(input())\n",
    "    elements = []\n",
    "\n",
    "    for _ in range(t):\n",
    "\n",
    "        el_sub = int(input())\n",
    "        sub = set(map(int, input().split()))\n",
    "        el_main = int(input())\n",
    "        main = set(map(int, input().split()))\n",
    "        \n",
    "        # Nested list with list[i][0] = subset and list[i][1] = main list \n",
    "        \n",
    "        elements.append([sub, main]) \n",
    "\n",
    "    for i in range(len(elements)):\n",
    "        print(is_sub_set(elements[i][0], elements[i][1]))\n"
   ]
  },
  {
   "cell_type": "markdown",
   "metadata": {},
   "source": [
    "- Check Strict Superset"
   ]
  },
  {
   "cell_type": "code",
   "execution_count": null,
   "metadata": {},
   "outputs": [],
   "source": [
    "def strict_superset(arr, lst):\n",
    "    \n",
    "    val = []\n",
    "    for i in range(len(lst)):\n",
    "        \n",
    "        # Conditions: subset elements must be in the main set, but sub cannot be equal to main (that's why I measure the length)\n",
    "        \n",
    "        if arr & set(lst[i]) == set(lst[i]) and len(arr) > len(set(lst[i])):\n",
    "            val.append(True)\n",
    "        else:\n",
    "            val.append(False)\n",
    "    return all(val) # It returns true only if all elements are true\n",
    "\n",
    "\n",
    "if __name__ ==\"__main__\":\n",
    "\n",
    "    arr = set(map(int, input().split()))\n",
    "    n = int(input())\n",
    "    subs = []\n",
    "\n",
    "    for i in range(n): # => Let's create a list with some sub sets (as nested lists)\n",
    "        arrs = set(map(int, input().split()))\n",
    "        subs.append(arrs)\n",
    "    \n",
    "    print(strict_superset(arr, subs))"
   ]
  },
  {
   "cell_type": "markdown",
   "metadata": {},
   "source": [
    "## 5. Collections:"
   ]
  },
  {
   "cell_type": "markdown",
   "metadata": {},
   "source": [
    "- Collections.Counter()"
   ]
  },
  {
   "cell_type": "code",
   "execution_count": null,
   "metadata": {},
   "outputs": [],
   "source": [
    "from collections import Counter\n",
    "\n",
    "def incomes(size_shoes, size_price):\n",
    "\n",
    "    # Counter: on the left: shoe size and on the right: the quantity availabe\n",
    "    size_shoes_counter = Counter(size_shoes)\n",
    "    money = 0\n",
    "\n",
    "    for i in range(len(size_price)):\n",
    "        #Let's create a variable for size and price (we can handel better the figures)\n",
    "        size = size_price[i][0] \n",
    "        price = size_price[i][1]\n",
    "        #Let's check whether the required size exist (in) and whether it is in the collection (>0)  \n",
    "        if size in size_shoes_counter.keys() and size_shoes_counter[size] > 0:\n",
    "        # Add the income and remove from the collection one pair of shoes of that size\n",
    "            money += price\n",
    "            size_shoes_counter[size] -= 1\n",
    "    return money\n",
    "\n",
    "if __name__ == '__main__':\n",
    "    \n",
    "    n_shoes = int(input())\n",
    "    size_shoes = list(map(int, input().split()))\n",
    "    n_customers = int(input())\n",
    "    size_price = []\n",
    "    for _ in range(n_customers):\n",
    "        size, price = input().split()\n",
    "        size_price.append([int(size), int(price)])\n",
    "\n",
    "    print(incomes(size_shoes, size_price))\n"
   ]
  },
  {
   "cell_type": "markdown",
   "metadata": {},
   "source": [
    "- DefaultDict Tutorial:"
   ]
  },
  {
   "cell_type": "code",
   "execution_count": null,
   "metadata": {},
   "outputs": [],
   "source": [
    "from collections import defaultdict\n",
    "\n",
    "def defaultvalue(): # Let's set the default value function\n",
    "    return -1\n",
    "\n",
    "def find_in_dict(group_a, group_b):\n",
    "\n",
    "    d = defaultdict(defaultvalue) # If I give a value that isn't inside he returns the value given by the function\n",
    "    \n",
    "     # This is the only way to do, instead if I append and int to a list type it gives us error, because I have set as default int and not list\n",
    "        # So I cannot use the method append and I cannot just add too, because, I need all indexes and not the sum of them\n",
    "        # Therefore I work with it as a string\n",
    "        # I must adjust the index with + 1 to follow what the exercise asks\n",
    "    \n",
    "    for i in range(len(group_a)):\n",
    "        if group_a[i] in d:\n",
    "            d[group_a[i]] = d[group_a[i]] +  \" \"  + str(i + 1)\n",
    "        else:\n",
    "            d[group_a[i]] = str(i + 1)\n",
    "\n",
    "    for el in group_b:\n",
    "        print(d[el])\n",
    "\n",
    "if __name__ == '__main__':\n",
    "\n",
    "    n, m = list(map(int, input().split()))\n",
    "\n",
    "    group_a = []\n",
    "    for _ in range(n):\n",
    "        group_a.append(input())\n",
    "\n",
    "    group_b = []\n",
    "    for _ in range(m):\n",
    "        group_b.append(input())\n",
    "\n",
    "    find_in_dict(group_a, group_b)"
   ]
  },
  {
   "cell_type": "markdown",
   "metadata": {},
   "source": [
    "- Collections.namedtuple()"
   ]
  },
  {
   "cell_type": "code",
   "execution_count": null,
   "metadata": {},
   "outputs": [],
   "source": [
    "from collections import namedtuple\n",
    "\n",
    "if __name__ == \"__main__\":\n",
    "\n",
    "    n = int(input())\n",
    "    titles = input()\n",
    "    std_file = namedtuple(\"std_file\", titles)\n",
    "\n",
    "    tot_grade = 0\n",
    "    for _ in range(n):\n",
    "        \n",
    "        x = input().split()\n",
    "        \n",
    "        # I don'tknow whch is the value I need, but we can just write \".\"The column we need\" and python will find it\n",
    "        \n",
    "        std = std_file(x[0], x[1], x[2], x[3])\n",
    "        tot_grade += int(std.MARKS)\n",
    "    \n",
    "    mean = tot_grade/n\n",
    "    print(\"{:.2f}\".format(mean))"
   ]
  },
  {
   "cell_type": "markdown",
   "metadata": {},
   "source": [
    "- Collections.OrderedDict()\n"
   ]
  },
  {
   "cell_type": "code",
   "execution_count": null,
   "metadata": {},
   "outputs": [],
   "source": [
    "from collections import OrderedDict\n",
    "\n",
    "if __name__ == '__main__':\n",
    "\n",
    "    store = OrderedDict()\n",
    "    n = int(input())\n",
    "\n",
    "    for _ in range(n):\n",
    "\n",
    "        trans = input().split()\n",
    "        \n",
    "        # I know that the last value is always the price (the others are the name)\n",
    "       \n",
    "    key = \" \".join(trans[0:len(trans) - 1])\n",
    "        price = trans[-1]\n",
    "        \n",
    "        # Let's check whether our key exists or not, in case it exists will add the value to the older one in the dic:\n",
    "        \n",
    "        if key in store.keys():\n",
    "            store[key] = store.get(key) + int(price)\n",
    "        else:\n",
    "            x = {key: int(price)}\n",
    "            store.update(x)\n",
    "            \n",
    "    # .items() gives key and values, so I will print them\n",
    "    \n",
    "    for k, v in store.items():\n",
    "        print(k, v)"
   ]
  },
  {
   "cell_type": "markdown",
   "metadata": {},
   "source": [
    "- Word Order:"
   ]
  },
  {
   "cell_type": "code",
   "execution_count": null,
   "metadata": {},
   "outputs": [],
   "source": [
    "from collections import Counter, OrderedDict                                  \n",
    "                                                                              \n",
    "def not_repeted(lst): \n",
    "    \n",
    "    # Thanks to how counter works, the lenght of the keys gives me the exact number of no repeted items.                                                        \n",
    "    return len(list(lst_count.keys()))                                                    \n",
    "                                                                         \n",
    "def occur(lst):                                                               \n",
    "    # I've used a orderedDict so the values are printed in the order I've put inside the dict. After that I just need to print each value.                                                                \n",
    "    for _, value in lst.items():                                              \n",
    "        print(value, end = \" \")                                               \n",
    "                                                                              \n",
    "if __name__ == '__main__':                                                    \n",
    "                                                                              \n",
    "    n = int(input())                                                          \n",
    "    lst = []                                                                  \n",
    "    for _ in range(n):                                                        \n",
    "        lst.append(input())                                                   \n",
    "    lst_count = Counter(lst)                                                  \n",
    "    ord_lst = OrderedDict(lst_count)                                          \n",
    "                                                                              \n",
    "    print(not_repeted(lst_count))                                             \n",
    "    occur(ord_lst)                                                     "
   ]
  },
  {
   "cell_type": "markdown",
   "metadata": {},
   "source": [
    "- Collections.deque():"
   ]
  },
  {
   "cell_type": "code",
   "execution_count": null,
   "metadata": {},
   "outputs": [],
   "source": [
    "from collections import deque\n",
    "\n",
    "if __name__ == \"__main__\":\n",
    "\n",
    "    n = int(input())\n",
    "    deq = deque()\n",
    "\n",
    "    for _ in range(n):\n",
    "\n",
    "        x = input().split()\n",
    "        \n",
    "    # I store the variable depending on how many values has x\n",
    "    \n",
    "        if len(x) == 2:\n",
    "            op, value = x[0], x[1]\n",
    "        elif len(x) < 2:\n",
    "            op = x[0]\n",
    "            \n",
    "    # Let's consider all the possible operation the user can ask us to do\n",
    "        \n",
    "        if op == \"append\":\n",
    "            deq.append(int(value))\n",
    "        elif op == \"pop\":\n",
    "            deq.pop()\n",
    "        elif op == \"popleft\":\n",
    "            deq.popleft()\n",
    "        elif op == \"appendleft\":\n",
    "            deq.appendleft(int(value))\n",
    "\n",
    "    for i in range(len(deq)):\n",
    "        print(deq[i], end = \" \")"
   ]
  },
  {
   "cell_type": "markdown",
   "metadata": {},
   "source": [
    "- Company Logo:"
   ]
  },
  {
   "cell_type": "code",
   "execution_count": null,
   "metadata": {},
   "outputs": [],
   "source": [
    "from collections import Counter\n",
    "\n",
    "def most_repeted(logo):\n",
    "\n",
    "    # Thanks to Counter function I can easily get an array made of tuples couples, ordered by frequency.\n",
    "    logo_sort = Counter(logo).most_common()\n",
    "\n",
    "    # I wanto to sort only letters with the same frequency (first if), \n",
    "    # I need to iterate for each elements (two for loops), instead our comaprison won't be complete\n",
    "\n",
    "    for i in range(len(logo_sort)):\n",
    "        for j in range(len(logo_sort)):\n",
    "            if logo_sort[i][1] == logo_sort[j][1]: # => Let's check if the number of rep is the same\n",
    "                if logo_sort[i][0] < logo_sort[j][0]: # Alphabetic sort\n",
    "                    box = logo_sort[i]\n",
    "                    logo_sort[i] = logo_sort[j]\n",
    "                    logo_sort[j] = box\n",
    "\n",
    "# Finally I want to show only the first three elements\n",
    "\n",
    "    logo_cut = logo_sort[:3]\n",
    "    for i, j in logo_cut:\n",
    "        print(i, j)\n",
    "\n",
    "\n",
    "if __name__ == \"__main__\":\n",
    "\n",
    "    logo = input().lower()\n",
    "    most_repeted(logo)"
   ]
  },
  {
   "cell_type": "markdown",
   "metadata": {},
   "source": [
    "- Pilling up!"
   ]
  },
  {
   "cell_type": "code",
   "execution_count": null,
   "metadata": {},
   "outputs": [],
   "source": [
    "from collections import deque\n",
    "\n",
    "if __name__ == '__main__':\n",
    "\n",
    "    c = int(input())\n",
    "\n",
    "    for _ in range(c):\n",
    "\n",
    "        l = int(input())\n",
    "        cubes = deque(map(int, input().split()))\n",
    "        pile = []\n",
    "        \n",
    "        # Let's check whether the values inside are smaller then the one outside at least from one side. \n",
    "        # If not, it means that I cannot go head (for Hp)\n",
    "        # Furthermore, I cannot have only one element in the list, instead the other conditions of the while cycle cannot be verified.\n",
    "        # TO overcome this issue and add the last element to the list I write an ending if: if there is only one element in the list, it means that it is the last\n",
    "        # And I can pile it.\n",
    "        \n",
    "        while len(cubes) > 1 and (cubes[0] >= cubes[1] or cubes[-1] >= cubes[-2]):\n",
    "            if cubes[0] >= cubes[-1]:\n",
    "                pile.append(cubes[0])\n",
    "                cubes.popleft()\n",
    "            else:\n",
    "                pile.append(cubes[-1])\n",
    "                cubes.pop()\n",
    "        if len(cubes) == 1:\n",
    "            pile.append(cubes[0])\n",
    "\n",
    "        if len(pile) == l:\n",
    "            print(\"Yes\")\n",
    "        else:\n",
    "            print(\"No\")"
   ]
  },
  {
   "cell_type": "markdown",
   "metadata": {},
   "source": [
    "## 6. Date and Time:"
   ]
  },
  {
   "cell_type": "markdown",
   "metadata": {},
   "source": [
    "- Calendar Module:"
   ]
  },
  {
   "cell_type": "code",
   "execution_count": null,
   "metadata": {},
   "outputs": [],
   "source": [
    "import calendar\n",
    "\n",
    "if __name__== \"__main__\":\n",
    "\n",
    "    date = input().split()     # Write MM DD YYYY\n",
    "    day = calendar.weekday(int(date[2]), int(date[0]), int(date[1]))\n",
    "    print(calendar.day_name[day].upper())"
   ]
  },
  {
   "cell_type": "markdown",
   "metadata": {},
   "source": [
    "- Time Delta:"
   ]
  },
  {
   "cell_type": "code",
   "execution_count": null,
   "metadata": {},
   "outputs": [],
   "source": [
    "#!/bin/python3\n",
    "from datetime import datetime\n",
    "import math\n",
    "import os\n",
    "import random\n",
    "import re\n",
    "import sys\n",
    "\n",
    "# Complete the time_delta function below.\n",
    "def time_delta(t1, t2):\n",
    "    \n",
    "    # The library automatically calculate seconds for me\n",
    "    # I just say that it must be an integer and that I vanto the abs\n",
    "    \n",
    "    date1 = datetime.strptime(t1, '%a %d %b %Y %H:%M:%S %z')\n",
    "    date2 = datetime.strptime(t2, '%a %d %b %Y %H:%M:%S %z')\n",
    "\n",
    "    return str(abs(int((date1 - date2).total_seconds())))\n",
    "\n",
    "if __name__ == '__main__':\n",
    "\n",
    "    # This part of code works only on HackerRank (we dont'have the OUTPUT_PATH)\n",
    "    \n",
    "    fptr = open(os.environ['OUTPUT_PATH'], 'w')\n",
    "    t = int(input())\n",
    "\n",
    "    for t_itr in range(t):\n",
    "        t1 = input()\n",
    "\n",
    "        t2 = input()\n",
    "\n",
    "        delta = time_delta(t1, t2)\n",
    "\n",
    "        fptr.write(delta + '\\n')\n",
    "\n",
    "    fptr.close()"
   ]
  },
  {
   "cell_type": "markdown",
   "metadata": {},
   "source": [
    "## 7. Errors and Exceptions:"
   ]
  },
  {
   "cell_type": "markdown",
   "metadata": {},
   "source": [
    "- Exceptions:"
   ]
  },
  {
   "cell_type": "code",
   "execution_count": null,
   "metadata": {},
   "outputs": [],
   "source": [
    "n = int(input())\n",
    "\n",
    "for _ in range(n):\n",
    "    a, b = input().split()\n",
    "    try:\n",
    "        division = int(a) // int(b)\n",
    "        print(division)\n",
    "            \n",
    "    except ZeroDivisionError as e:\n",
    "        print(\"Error Code:\", e)\n",
    "    except ValueError as e:\n",
    "        print(\"Error Code:\", e)\n"
   ]
  },
  {
   "cell_type": "markdown",
   "metadata": {},
   "source": [
    "## 8. Built-Ins:"
   ]
  },
  {
   "cell_type": "markdown",
   "metadata": {},
   "source": [
    "- Zipped!"
   ]
  },
  {
   "cell_type": "code",
   "execution_count": null,
   "metadata": {},
   "outputs": [],
   "source": [
    "def mean_student(n, m, lst):\n",
    "    \n",
    "    # If I think as a matrix, I want to get each of i column (zip does it)\n",
    "    stud_grades = list(zip(*lst))\n",
    "    \n",
    "    # Let's do the mean of each student, in each list of stud_grades, there are the grades in each subject for the student i\n",
    "    \n",
    "    for i in range(n):\n",
    "        print(sum(stud_grades[i]) / m)\n",
    "    \n",
    "if __name__ == \"__main__\":\n",
    "\n",
    "    n_students, n_subjects = list(map(int, input().split()))\n",
    "\n",
    "    registro = []\n",
    "    for i in range(n_subjects):\n",
    "        x = input().split()\n",
    "        # map() dosen't work, so i must implement a for loop to convert str in float\n",
    "        registro.append([float(i) for i in x])\n",
    "    \n",
    "    mean_student(n_students, n_subjects, registro)\n"
   ]
  },
  {
   "cell_type": "markdown",
   "metadata": {},
   "source": [
    "- Athlet Sort:"
   ]
  },
  {
   "cell_type": "code",
   "execution_count": null,
   "metadata": {},
   "outputs": [],
   "source": [
    "# IMPORTANT: HackerRank dosen't accept this solution because I am using numpy lib\n",
    "# Anyway I think it is a smart one (maybe no the shorter), so I print anyway\n",
    "\n",
    "import math\n",
    "import numpy as np\n",
    "\n",
    "def athlet_sort(arr, n, m, k):\n",
    "\n",
    "    matrix = np.array(arr)\n",
    "    # I create an array in which there is the column that I want to sort\n",
    "    sort_arr = []\n",
    "    for i in range(len(arr)):\n",
    "        el = arr[i][k]\n",
    "        sort_arr.append(el)\n",
    "    sort_arr_col = np.array(sort_arr)\n",
    "    \n",
    "    index = np.argsort(sort_arr_col) # Get the indexes according to the sorting\n",
    "    sorted_matr = matrix[ index,:] # Re-order the matrix with the new indexes\n",
    "\n",
    "    return sorted_matr\n",
    "\n",
    "if __name__ == '__main__':\n",
    "    \n",
    "    n, m = list(map(int, input().split()))\n",
    "    arr = []\n",
    "     for _ in range(n):\n",
    "        arr.append(list(map(int, input().split())))\n",
    "\n",
    "    k = int(input())\n",
    "    print(athlet_sort(arr, n, m, k))"
   ]
  },
  {
   "cell_type": "markdown",
   "metadata": {},
   "source": [
    "## 9. Python Function:"
   ]
  },
  {
   "cell_type": "code",
   "execution_count": null,
   "metadata": {},
   "outputs": [],
   "source": [
    "cube = lambda x: x**3\n",
    "\n",
    "def fibonacci(n):\n",
    "\n",
    "    i = 2\n",
    "    l = [0, 1]\n",
    "    a = 0\n",
    "    b = 1\n",
    "    ft = []\n",
    "\n",
    "    if n == 0: # Only for positive numbers (to 0 we cannot anything that there is before)\n",
    "        return ft\n",
    "    elif n == 1: # First number is 0\n",
    "        ft.append(0)\n",
    "        return ft\n",
    "    else:\n",
    "        while i < n: # I just read how Fibo works and translate it in code\n",
    "        \n",
    "            fibo = a + b\n",
    "            l.append(fibo)\n",
    "            a = b\n",
    "            b = fibo\n",
    "            i += 1\n",
    "            \n",
    "        return l\n",
    "    \n",
    "\n",
    "if __name__ == '__main__':\n",
    "    n = int(input())\n",
    "    print(list(map(cube, fibonacci(n))))"
   ]
  },
  {
   "cell_type": "markdown",
   "metadata": {},
   "source": [
    "## 10. Regex and Parsing:"
   ]
  },
  {
   "cell_type": "markdown",
   "metadata": {},
   "source": [
    "- Detect Floating Point Number"
   ]
  },
  {
   "cell_type": "code",
   "execution_count": null,
   "metadata": {},
   "outputs": [],
   "source": [
    "import re\n",
    "\n",
    "if __name__ == \"__main__\":\n",
    "\n",
    "    n = int(input())\n",
    "\n",
    "    for _ in range(n):\n",
    "\n",
    "        t_case = input()\n",
    "        \n",
    "        # [ab]? a and b must appear one or zero times (?) says that\n",
    "        # [a-b]* all thing between a anf b (included) can be repeted n times (0 included)\n",
    "        # \\. it means a dot (if we want to find a dot we cannot write \".\"\n",
    "        # [0-9]+ all thing between a anf b (included) can be repeted n times (at least once)\n",
    "        # $ whatever follows\n",
    "        \n",
    "        print(bool(re.match(r'[-+.]?[0-9]*\\.[0-9]+$', t_case)))"
   ]
  },
  {
   "cell_type": "markdown",
   "metadata": {},
   "source": [
    "- Re.spli():"
   ]
  },
  {
   "cell_type": "code",
   "execution_count": null,
   "metadata": {},
   "outputs": [],
   "source": [
    "regex_pattern = r\"[.,]{1,3}\"\t# Do not delete 'r'.\n",
    "\n",
    "import re\n",
    "print(\"\\n\".join(re.split(regex_pattern, input())))"
   ]
  },
  {
   "cell_type": "markdown",
   "metadata": {},
   "source": [
    "- Group(), Groups() & Groupdict():"
   ]
  },
  {
   "cell_type": "code",
   "execution_count": null,
   "metadata": {},
   "outputs": [],
   "source": [
    "import re\n",
    "\n",
    "def repeted_char(s):\n",
    "    \n",
    "    # \"\\1+\" means repeted more than 1, between brakets I write which elements I want to look for\n",
    "    \n",
    "    rep = re.search(r'([a-zA-Z0-9])\\1+',s)\n",
    "    b_rep = bool(rep)\n",
    "\n",
    "    if b_rep == True:\n",
    "        print(rep.group(1))\n",
    "    else:\n",
    "        print(-1)\n",
    "\n",
    "\n",
    "if __name__ == \"__main__\":\n",
    "\n",
    "    s = input().strip()\n",
    "    repeted_char(s)"
   ]
  },
  {
   "cell_type": "markdown",
   "metadata": {},
   "source": [
    "- Re.findall() & Re.finditer():"
   ]
  },
  {
   "cell_type": "code",
   "execution_count": null,
   "metadata": {},
   "outputs": [],
   "source": [
    "import re\n",
    "\n",
    "def more_vowels(s):\n",
    "    \n",
    "    vow = \"aeiou\"\n",
    "    cons = \"qwrtypsdfghjklzxcvbnm\"\n",
    "    \n",
    "    # \"?<=\" means there must be this pattern but not include it (behind) for forward is \"?=\".\n",
    "    # {n, } means how many times the patter should at least be repeated.\n",
    "    \n",
    "    find_vow = re.findall(r'(?<=[%s])([%s]{2,})[%s]' % (cons, vow, cons), s, flags = re.IGNORECASE)\n",
    "\n",
    "    if find_vow:\n",
    "        for match in find_vow:\n",
    "            print(match)\n",
    "    else:\n",
    "        print(-1)\n",
    "\n",
    "\n",
    "if __name__ == \"__main__\":\n",
    "    s = input().strip()\n",
    "    more_vowels(s)"
   ]
  },
  {
   "cell_type": "markdown",
   "metadata": {},
   "source": [
    "- Re.start() & Re.end():"
   ]
  },
  {
   "cell_type": "code",
   "execution_count": null,
   "metadata": {},
   "outputs": [],
   "source": [
    "import re\n",
    "\n",
    "def find_sub(string, sub):\n",
    "\n",
    "    j = 0\n",
    "    count = 0\n",
    "    while (j) < len(string)-1:\n",
    "        stringa = string[j:]\n",
    "        find = re.search(r'(%s)' % sub, stringa, flags = re.I)\n",
    "        \n",
    "        # Because if lebgth == 1 we must delete the -1 after find.end (in j +=), instead we enter in a loop\n",
    "        # We add a counter so if we don't get any match at the end we print (-1, -1)\n",
    "        # If we don't find any match we must go head of one position (that's why a wrote the last else)\n",
    "        # The find.end()-1 is because the upper boundary is not included\n",
    "        \n",
    "        if find and len(sub) != 1:\n",
    "            print((j+find.start(), j+find.end()-1))\n",
    "            j += find.end()-1\n",
    "            count += 1\n",
    "        elif find and len(sub) == 1:\n",
    "            print((j+find.start(), j+find.end()-1))\n",
    "            j += find.end()\n",
    "            count += 1\n",
    "        else:\n",
    "            j += 1\n",
    "\n",
    "    if count == 0:\n",
    "        print((-1, -1))\n",
    "\n",
    "if __name__ == \"__main__\":\n",
    "\n",
    "    string = input().strip()\n",
    "    sub = input().strip()\n",
    "\n",
    "    find_sub(string, sub)"
   ]
  },
  {
   "cell_type": "markdown",
   "metadata": {},
   "source": [
    "- Validating Roman Numerals:"
   ]
  },
  {
   "cell_type": "code",
   "execution_count": null,
   "metadata": {},
   "outputs": [],
   "source": [
    "# \"^\" start of the word\n",
    "# M{0,3} M is the biggest symbol Romans used and the don't put more than 3\n",
    "# (CM|CD|D?C{0,3}) There can be once or not be (?) CM,CD,D. C can be repeated between 0 and 3\n",
    "# (XC|XL|L?X{0,3}) Same but with decimals (L = 50), (X = 10)\n",
    "# (IX|IV|V?I{0,3}) Same but with unit\n",
    "# \"$\" end of the word\n",
    "\n",
    "regex_pattern = r\"^M{0,3}(CM|CD|D?C{0,3})(XC|XL|L?X{0,3})(IX|IV|V?I{0,3})$\"\t# Do not delete 'r'.\n",
    "\n",
    "import re\n",
    "print(str(bool(re.match(regex_pattern, input()))))"
   ]
  },
  {
   "cell_type": "markdown",
   "metadata": {},
   "source": [
    "- Validating phone numbers:"
   ]
  },
  {
   "cell_type": "code",
   "execution_count": null,
   "metadata": {},
   "outputs": [],
   "source": [
    "import re\n",
    "\n",
    "def is_a_pnumber(number):\n",
    "    \n",
    "    # \"^[7,8,9]\" The number must start with 7,8,9\n",
    "    # \"\\d{9}$\" Then there must be at most 9 digits\n",
    "    # \"$\" I put it, instead re continious to search also after 9 digits\n",
    "\n",
    "    return re.search(r'^[7,8,9]\\d{9}$', number)\n",
    "\n",
    "\n",
    "if __name__ == '__main__':\n",
    "\n",
    "    n = int(input())\n",
    "    for _ in range(n):\n",
    "\n",
    "        number = input()\n",
    "        print(\"YES\" if is_a_pnumber(number) else \"NO\")"
   ]
  },
  {
   "cell_type": "markdown",
   "metadata": {},
   "source": [
    "- Validating and Parsing Email Addresses:"
   ]
  },
  {
   "cell_type": "code",
   "execution_count": null,
   "metadata": {},
   "outputs": [],
   "source": [
    "import re\n",
    "\n",
    "check = r\"<[A-Aa-z](\\w|-|\\.|_)+@[abAB]\\.[abAB]{1,3}>\"\n",
    "\n",
    "n = int(input())\n",
    "\n",
    "for _ in range(n):\n",
    "    \n",
    "    name, mail = input().split()\n",
    "    \n",
    "    # The first character must be \"<\", then There must be a letter rof the alphabet \"[A-Za-z]\"\n",
    "    # [A-Za-z] First letter Caps.\n",
    "    # (\\w|-|\\.|_)+ Any quantity (at least 1) of letters or specified symbols\n",
    "    # @ at\n",
    "    # [a-zA-Z]+ Any quantity (at least 1) of letters\n",
    "    # \\. a dot\n",
    "    # [a-zA-Z]{1,3} Between 1 and 3 letters\n",
    "    check = re.match(r\"<[A-Za-z](\\w|-|\\.|_)+@[a-zA-Z]+\\.[a-zA-Z]{1,3}>\", mail)\n",
    "\n",
    "    if check:\n",
    "        print(name, mail)"
   ]
  },
  {
   "cell_type": "markdown",
   "metadata": {},
   "source": [
    "## 11. XML:"
   ]
  },
  {
   "cell_type": "markdown",
   "metadata": {},
   "source": [
    "- XML 1 - Find the Score:"
   ]
  },
  {
   "cell_type": "code",
   "execution_count": null,
   "metadata": {},
   "outputs": [],
   "source": [
    "# IMPORTANT: I have seen that the only element that as an \"=\" before to be introduced is the attribute\n",
    "# So I have found the number the attributes in this way\n",
    "# I know that it is not the correct strict way, but it passes all HackerRank's tests, so I put it\n",
    "\n",
    "import sys\n",
    "import xml.etree.ElementTree as etree\n",
    "\n",
    "def get_attr_number(node):\n",
    "    \n",
    "    return xml.count(\"=\") # Because each atribute has an equal\n",
    "\n",
    "if __name__ == '__main__':\n",
    "    sys.stdin.readline()\n",
    "    xml = sys.stdin.read()\n",
    "    tree = etree.ElementTree(etree.fromstring(xml))\n",
    "    root = tree.getroot()\n",
    "    print(get_attr_number(root))"
   ]
  },
  {
   "cell_type": "markdown",
   "metadata": {},
   "source": [
    "## 12. Numpy:"
   ]
  },
  {
   "cell_type": "markdown",
   "metadata": {},
   "source": [
    "- Arrays:"
   ]
  },
  {
   "cell_type": "code",
   "execution_count": null,
   "metadata": {},
   "outputs": [],
   "source": [
    "import numpy as np\n",
    "\n",
    "def arrays(arr):\n",
    "\n",
    "    # An array is similar to a list, but it can store only elements with the same type, and it can convert them \"array(el, type)\n",
    "   \n",
    "    a = np.array(arr, float)\n",
    "    a.sort()\n",
    "    return a\n",
    "\n",
    "if __name__ == \"__main__\":\n",
    "\n",
    "    arr = input().strip().split()\n",
    "    result = arrays(arr)\n",
    "    print(result)"
   ]
  },
  {
   "cell_type": "markdown",
   "metadata": {},
   "source": [
    "- Shape and Reshape"
   ]
  },
  {
   "cell_type": "code",
   "execution_count": null,
   "metadata": {},
   "outputs": [],
   "source": [
    "import numpy as np\n",
    "\n",
    "# np.reshape(array, dimension = (row, col)) gives to the selected array the shape you write in the tuple\n",
    "# np.shape(array) return as a tuple the dimension of the array\n",
    "\n",
    "if __name__ == \"__main__\":\n",
    "\n",
    "    arr = np.array(list(map(int, input().split())))\n",
    "\n",
    "    print(np.reshape(arr, (3, 3)))"
   ]
  },
  {
   "cell_type": "markdown",
   "metadata": {},
   "source": [
    "- Transposeand Reshape"
   ]
  },
  {
   "cell_type": "code",
   "execution_count": null,
   "metadata": {},
   "outputs": [],
   "source": [
    "import numpy as np\n",
    "\n",
    "if __name__ == \"__main__\":\n",
    "\n",
    "    n, m = list(map(int, input().split()))\n",
    "    columns = []\n",
    "    for _ in range(n):\n",
    "        x = list(map(int, input().split()))\n",
    "        columns.append(x)\n",
    "\n",
    "    matrix = np.array(columns)\n",
    "    # I.E. array = [[1, 3], [2, 4]] array.transpose() = [[1, 2][3, 4]]  array.flatten() = [1, 3, 2, 4]\n",
    "    # This function works directly on the variable, so we don't have to save a new variable every time\n",
    "    print(matrix.transpose())\n",
    "    print(matrix.flatten())"
   ]
  },
  {
   "cell_type": "markdown",
   "metadata": {},
   "source": [
    "- Concatenate:"
   ]
  },
  {
   "cell_type": "code",
   "execution_count": null,
   "metadata": {},
   "outputs": [],
   "source": [
    "import numpy as np\n",
    "\n",
    "if __name__ == \"__main__\":\n",
    "\n",
    "    n, m, p = list(map(int, input().split()))\n",
    "\n",
    "    matrix_1 =[]\n",
    "    for row in range(n):\n",
    "        x = input().split()\n",
    "        matrix_1.append(x)\n",
    "\n",
    "    matrix_np = np.array(matrix_1, int)\n",
    "\n",
    "    matrix_2 = []\n",
    "    for row in range(m):\n",
    "        x = input().split()\n",
    "        matrix_2.append(x)\n",
    "\n",
    "    matrix_mp = np.array(matrix_2, int)\n",
    "\n",
    "    # m1 = [[1,2],[2,3]] m2 = [[5,6], [8,9]]\n",
    "    # mc_a0 = [[1,2],[2,3],[5,6],[8,9]]\n",
    "    # mc_a1 = [[1,2,2,3],[5,6,8,9]]\n",
    "    # The arguments to concatenate must be written between brackets ()\n",
    "\n",
    "    matrix_nmp = np.concatenate((matrix_np, matrix_mp), axis = 0)\n",
    "\n"
   ]
  },
  {
   "cell_type": "markdown",
   "metadata": {},
   "source": [
    "- Zeros and Ones:"
   ]
  },
  {
   "cell_type": "code",
   "execution_count": null,
   "metadata": {},
   "outputs": [],
   "source": [
    "import numpy as np\n",
    "\n",
    "# Let's understand the meaning of par =(2, 1, 2):\n",
    "# Let's start from the last element: first arr must have the elements repeated twice\n",
    "# The second from the end tells that we have to repeate the first arr once (not repeated) in the new array\n",
    "# The third (in this case the first) it says that we have to repeat the previous arr twice in this new one.\n",
    "\n",
    "def zeros(par):\n",
    "    arr_0 = np.zeros(par, dtype = np.int)\n",
    "    return arr_0\n",
    "\n",
    "\n",
    "def ones(par):\n",
    "    arr_1 = np.ones(par, dtype = np.int)\n",
    "    return arr_1\n",
    "\n",
    "if __name__ == \"__main__\":\n",
    "\n",
    "    par = list(map(int, input().split()))\n",
    "\n",
    "    print(zeros(par))\n",
    "    print(ones(par))"
   ]
  },
  {
   "cell_type": "markdown",
   "metadata": {},
   "source": [
    "- Eye and Identity:"
   ]
  },
  {
   "cell_type": "code",
   "execution_count": null,
   "metadata": {},
   "outputs": [],
   "source": [
    "import numpy as np\n",
    "\n",
    "if __name__ == \"__main__\":\n",
    "\n",
    "    n, m = list(map(int, input().split()))\n",
    "    # np.identity(n) creates a matrix n*n with all 0s and a diagonal of 1s\n",
    "    # np.eye(n, m, k) creates a matrix n*m made of 0s and a diaonal of 1s in position k (strating counting from (0, 0) and so on (1, 0) (2, 0)....\n",
    "\n",
    "    # 1.13 legacy printing mode. \n",
    "    # This approximates numpy 1.13 print output by including a space in the sign position of floats and different behavior for 0d arrays.\n",
    "    # https://docs.scipy.org/doc/numpy/reference/generated/numpy.set_printoptions.html-\n",
    "    \n",
    "    np.set_printoptions(legacy = '1.13')\n",
    "\n",
    "    # np.identity(n) creates a matrix n*n with all 0s and a diagonal of 1s\n",
    "    # np.eye(n, m, k) creates a matrix n*m made of 0s and a diaonal of 1s in position k (strating counting from (0, 0) and so on (1, 0) (2, 0)...\n",
    "\n",
    "    arr = np.eye(n, m, 0, dtype = np.float_)\n",
    "\n",
    "    print(arr)"
   ]
  },
  {
   "cell_type": "markdown",
   "metadata": {},
   "source": [
    "- Array Mathematics:"
   ]
  },
  {
   "cell_type": "code",
   "execution_count": null,
   "metadata": {},
   "outputs": [],
   "source": [
    "import numpy as np\n",
    "\n",
    "def final_array(lst_a, lst_b):\n",
    "\n",
    "    arr_a = np.array(lst_a)\n",
    "    arr_b = np.array(lst_b)\n",
    "\n",
    "    # I do the for loop directly in the brackets (for each element i of arr_a and arr_b a do some operation and then I save in the array\n",
    "\n",
    "    summ = np.array([np.add(arr_a[i], arr_b[i]) for i in range(len(lst_a))])\n",
    "    sub = np.array([np.subtract(arr_a[i], arr_b[i]) for i in range(len(lst_a))])\n",
    "    mult = np.array([np.multiply(arr_a[i], arr_b[i]) for i in range(len(lst_a))])\n",
    "    div = np.array([(arr_a[i]//arr_b[i]) for i in range(len(lst_a))])\n",
    "    mod = np.array([np.mod(arr_a[i], arr_b[i]) for i in range(len(lst_a))])\n",
    "    powe = np.array([np.power(arr_a[i], arr_b[i]) for i in range(len(lst_a))])\n",
    "\n",
    "    print(summ)\n",
    "    print(sub)\n",
    "    print(mult)\n",
    "    print(div)\n",
    "    print(mod)\n",
    "    print(powe)\n",
    "\n",
    "if __name__ == '__main__':\n",
    "\n",
    "    n, m = list(map(int, input().split()))\n",
    "\n",
    "    # I must do in this way because the values are written in the follow way M = 2 (aabb), but range(2*1)= 0 1 2, without the if for n = 1\n",
    "    # we assign 2 values to lst_a and 0 to lst_b\n",
    "    lst_a = []\n",
    "    lst_b = []\n",
    "\n",
    "    if n == 1:\n",
    "        lst_a.append(list(map(int, input().split())))\n",
    "        lst_b.append(list(map(int, input().split())))\n",
    "    else:\n",
    "\n",
    "        for _ in range(2*n):\n",
    "\n",
    "            if _ < n:\n",
    "                a = list(map(int, input().split()))\n",
    "                lst_a.append(a)\n",
    "            else:\n",
    "                b = list(map(int, input().split()))\n",
    "                lst_b.append(b)\n",
    "\n",
    "    final_array(lst_a, lst_b)"
   ]
  },
  {
   "cell_type": "markdown",
   "metadata": {},
   "source": [
    "- Floor, Ceil and Rint:"
   ]
  },
  {
   "cell_type": "code",
   "execution_count": null,
   "metadata": {},
   "outputs": [],
   "source": [
    "import numpy as np\n",
    "\n",
    "if __name__ == '__main__':\n",
    "\n",
    "    lst = list(map(lambda x: float(x), input().split()))\n",
    "\n",
    "    my_array = np.array(lst, dtype=\"f\")\n",
    "\n",
    "    np.set_printoptions(legacy='1.13')\n",
    "\n",
    "    # np.floor(arr[1., 0.5, 2.8, 3.2) it returns the integer part arr = [1., 0., 2., 3.]\n",
    "    print(np.floor(my_array))\n",
    "    # np.floor(arr[1., 0.5, 2.8, 3.2) it returns the integer + 1  if the are some decimal, insted onlt the int partpart\n",
    "    # arr = [1., 1., 3., 4.]\n",
    "    print(np.ceil(my_array))\n",
    "    print(np.rint(my_array))"
   ]
  },
  {
   "cell_type": "markdown",
   "metadata": {},
   "source": [
    "- Sum and prod:"
   ]
  },
  {
   "cell_type": "code",
   "execution_count": null,
   "metadata": {},
   "outputs": [],
   "source": [
    "import numpy as np\n",
    "\n",
    "# np.add() is to sum two arrays np.sum() is to sum the elements in an array\n",
    "#np.multiply is to multiplay el of two arrays, np.prod() is to have the product of elemts in an array\n",
    "\n",
    "def sum_prod(arr):\n",
    "\n",
    "    # np.sum([1, 2],[3, 4]) if axis 1 work inside each matrix, if 0 it takes first element of each matrix and so on\n",
    "    #axis 0 1+1 and 3+4 if think as a mtrix axis = 0 means columns\n",
    "    #axis 1 1+2 and 3+4 if think as a mtrix axis = 1 means rows\n",
    "    #None 1+2+3+4)sum all togethrt\n",
    "    summ = np.sum(arr, axis=0)\n",
    "    prod = np.prod(summ)\n",
    "\n",
    "    return prod\n",
    "\n",
    "if __name__ == '__main__':\n",
    "\n",
    "    n, m = list(map(int, input().split()))\n",
    "    lst_arr = []\n",
    "    for _ in range(n):\n",
    "        x = list((map(int, input().split())))\n",
    "        lst_arr.append(x)\n",
    "    arr = np.array(lst_arr)\n",
    "\n",
    "    print(sum_prod(arr))"
   ]
  },
  {
   "cell_type": "markdown",
   "metadata": {},
   "source": [
    "- Min and Max:"
   ]
  },
  {
   "cell_type": "code",
   "execution_count": null,
   "metadata": {},
   "outputs": [],
   "source": [
    "import numpy as np\n",
    "\n",
    "def min_max(arr):\n",
    "\n",
    "    minimum = np.min(arr, axis=1)\n",
    "    maximum = np.max(minimum)\n",
    "    return maximum\n",
    "\n",
    "if __name__ == '__main__':\n",
    "\n",
    "    n, m = list(map(int, input().split()))\n",
    "    lst_arr = []\n",
    "    for _ in range(n):\n",
    "        x = list((map(int, input().split())))\n",
    "        lst_arr.append(x)\n",
    "    arr = np.array(lst_arr)\n",
    "\n",
    "    print(min_max(arr))"
   ]
  },
  {
   "cell_type": "markdown",
   "metadata": {},
   "source": [
    "- Mean, Var and Std"
   ]
  },
  {
   "cell_type": "code",
   "execution_count": null,
   "metadata": {},
   "outputs": [],
   "source": [
    "import numpy as np\n",
    "\n",
    "def mean_var_STD(arr):\n",
    "\n",
    "    np.set_printoptions(legacy='1.13')\n",
    "\n",
    "    print(np.mean(arr, axis=1))\n",
    "    print(np.var(arr, axis=0))\n",
    "    print(np.std(arr))\n",
    "\n",
    "if __name__ == '__main__':\n",
    "\n",
    "    n, m = list(map(int, input().split()))\n",
    "    lst_arr = []\n",
    "    for _ in range(n):\n",
    "        x = list((map(int, input().split())))\n",
    "        lst_arr.append(x)\n",
    "    arr = np.array(lst_arr)\n",
    "\n",
    "    mean_var_STD(a"
   ]
  },
  {
   "cell_type": "markdown",
   "metadata": {},
   "source": [
    "- Dot and Cross:"
   ]
  },
  {
   "cell_type": "code",
   "execution_count": null,
   "metadata": {},
   "outputs": [],
   "source": [
    "import numpy as np\n",
    "\n",
    "def dot_mult(lst_a, lst_b):\n",
    "\n",
    "    matrix_a = np.array([x for x in lst_a])\n",
    "    matrix_b = np.array([x for x in lst_b])\n",
    "\n",
    "    # np.dot = prodotto scalare (if i want the thing for a matrix a must vrite the array of the same matrix in the same np function)\n",
    "    # np.cross = trova determinante (each array is a row)\n",
    "    return np.dot(matrix_a, matrix_b)\n",
    "\n",
    "if __name__ == '__main__':\n",
    "\n",
    "    n = int(input())\n",
    "\n",
    "    # I must do in this way because the values are written in the follow way M = 2 (aabb), but range(2*1)= 0 1 2, without the if for n = 1\n",
    "    # we assign 2 values to lst_a and 0 to lst_b\n",
    "    lst_a = []\n",
    "    lst_b = []\n",
    "\n",
    "    if n == 1:\n",
    "        lst_a.append(list(map(int, input().split())))\n",
    "        lst_b.append(list(map(int, input().split())))\n",
    "    else:\n",
    "        for _ in range(2 * n):\n",
    "\n",
    "            if _ < n:\n",
    "                a = list(map(int, input().split()))\n",
    "                lst_a.append(a)\n",
    "            else:\n",
    "                b = list(map(int, input().split()))\n",
    "                lst_b.append(b)\n",
    "\n",
    "    print(dot_mult(lst_a, lst_b))"
   ]
  },
  {
   "cell_type": "markdown",
   "metadata": {},
   "source": [
    "- Inner and Outer:"
   ]
  },
  {
   "cell_type": "code",
   "execution_count": null,
   "metadata": {},
   "outputs": [],
   "source": [
    "import numpy as np\n",
    "\n",
    "def inner_outer(arr_a, arr_b):\n",
    "    print(np.inner(arr_a, arr_b))\n",
    "    print(np.outer(arr_a, arr_b))\n",
    "\n",
    "if __name__ == \"__main__\":\n",
    "\n",
    "    arr_a = np.array((list(map(int, input().split()))))\n",
    "    arr_b = np.array((list(map(int, input().split()))))\n",
    "\n",
    "    inner_outer(arr_a, arr_b)"
   ]
  },
  {
   "cell_type": "markdown",
   "metadata": {},
   "source": [
    "- Polynomials:"
   ]
  },
  {
   "cell_type": "code",
   "execution_count": null,
   "metadata": {},
   "outputs": [],
   "source": [
    "import numpy as np\n",
    "\n",
    "if __name__ == \"__main__\":\n",
    "\n",
    "    values = np.array((input().split()), dtype=float)\n",
    "    x = int(input())\n",
    "\n",
    "    print(np.polyval(value"
   ]
  },
  {
   "cell_type": "markdown",
   "metadata": {},
   "source": [
    "- Linear Algebra:"
   ]
  },
  {
   "cell_type": "code",
   "execution_count": null,
   "metadata": {},
   "outputs": [],
   "source": [
    "import numpy as np\n",
    "\n",
    "if __name__ == \"__main__\":\n",
    "    n = int(input())\n",
    "\n",
    "    rows = []\n",
    "    for _ in range(n):\n",
    "\n",
    "        r = list(map(lambda x: float(x), input().split()))\n",
    "        rows.append(r)\n",
    "\n",
    "    matrix = np.array((rows))\n",
    "\n",
    "    print(np.round(np.linalg.det(matrix), decimals=2))"
   ]
  },
  {
   "cell_type": "markdown",
   "metadata": {},
   "source": [
    "# Part 2: Problem Solving:"
   ]
  },
  {
   "cell_type": "markdown",
   "metadata": {},
   "source": [
    "- Birthday Cake Candles"
   ]
  },
  {
   "cell_type": "code",
   "execution_count": null,
   "metadata": {},
   "outputs": [],
   "source": [
    "import math\n",
    "import os\n",
    "import random\n",
    "import re\n",
    "import sys\n",
    "\n",
    "# Complete the birthdayCakeCandles function below.\n",
    "\n",
    "def birthdayCakeCandles(ar):\n",
    "\n",
    "    ar.sort() # Let's sort from the smaller to the bigger\n",
    "    counter = 0\n",
    "    for i in range(len(ar)): # I can blow only the tallest (the last one), so check whther there are more than one\n",
    "        if ar[i] == ar[-1]:\n",
    "            counter += 1\n",
    "    return counter\n",
    "\n",
    "# THIS PART DOSEN'T WORK BECAUSE OF THE OUTH_PATH (IT SHOULD BE RUN ONLY ON HakerRank)\n",
    "\n",
    "if __name__ == '__main__':\n",
    "    fptr = open(os.environ['OUTPUT_PATH'], 'w')\n",
    "\n",
    "    ar_count = int(input())\n",
    "\n",
    "    ar = list(map(int, input().rstrip().split()))\n",
    "\n",
    "    result = birthdayCakeCandles(ar)\n",
    "\n",
    "    fptr.write(str(result) + '\\n')\n",
    "\n",
    "    fptr.close()"
   ]
  },
  {
   "cell_type": "markdown",
   "metadata": {},
   "source": [
    "- Kangaroo"
   ]
  },
  {
   "cell_type": "code",
   "execution_count": null,
   "metadata": {},
   "outputs": [],
   "source": [
    "#!/bin/python3\n",
    "\n",
    "import math\n",
    "import os\n",
    "import random\n",
    "import re\n",
    "import sys\n",
    "\n",
    "# Complete the kangaroo function below.\n",
    "def kangaroo(x1, v1, x2, v2):\n",
    "\n",
    "    # Given y = x + kv we want that y1 = y2, so we must cycle for k till y1 = y2 (and break the for loop), if it dosen't happen print NO\n",
    "\n",
    "    for i in range(1, 10 ** 5):\n",
    "        y1 = x1 + i * v1\n",
    "        y2 = x2 + i * v2\n",
    "        if y1 == y2:\n",
    "            return \"YES\"\n",
    "            break\n",
    "    return \"NO\"\n",
    "\n",
    "# THIS PART DOSEN'T WORK BECAUSE OUTPUT_PATH DOSEN?T EXIST (IT SHOULD BE RUN ONLY ON HackerRank)\n",
    "\n",
    "if __name__ == '__main__':\n",
    "    \n",
    "    fptr = open(os.environ['OUTPUT_PATH'], 'w')\n",
    "\n",
    "    x1V1X2V2 = input().split()\n",
    "\n",
    "    x1 = int(x1V1X2V2[0])\n",
    "\n",
    "    v1 = int(x1V1X2V2[1])\n",
    "\n",
    "    x2 = int(x1V1X2V2[2])\n",
    "\n",
    "    v2 = int(x1V1X2V2[3])\n",
    "\n",
    "    result = kangaroo(x1, v1, x2, v2)\n",
    "\n",
    "    fptr.write(result + '\\n')\n",
    "\n",
    "    fptr.close()\n"
   ]
  },
  {
   "cell_type": "markdown",
   "metadata": {},
   "source": [
    "- Stranger Advertising:"
   ]
  },
  {
   "cell_type": "code",
   "execution_count": null,
   "metadata": {},
   "outputs": [],
   "source": [
    "#!/bin/python3\n",
    "\n",
    "import math\n",
    "import os\n",
    "import random\n",
    "import re\n",
    "import sys\n",
    "\n",
    "# Complete the viralAdvertising function below.\n",
    "def viralAdvertising(n):\n",
    "\n",
    "    # I put these two variable outside because I want them to change related to the ones in for loop\n",
    "    cum_liked = 0\n",
    "    shared_nday = 5\n",
    "    for _ in range(n):\n",
    "\n",
    "        liked = math.floor(shared_nday/2)\n",
    "        shared = liked*3\n",
    "        # I sum the previous like to the new ones\n",
    "        cum_liked += liked\n",
    "        # I want to update every day (it already contains the previous days\n",
    "        shared_nday = shared\n",
    "\n",
    "    return cum_liked\n",
    "\n",
    "# THIS PART DOSEN'T WORK BECAUSE OUTPUT_PATH DOSEN?T EXIST (IT SHOULD BE RUN ONLY ON HackerRank)\n",
    "\n",
    "if __name__ == '__main__':\n",
    "\n",
    "    fptr = open(os.environ['OUTPUT_PATH'], 'w')\n",
    "\n",
    "    n = int(input())\n",
    "\n",
    "    result = viralAdvertising(n)\n",
    "\n",
    "    fptr.write(str(result) + '\\n')\n",
    "\n",
    "    fptr.close()\n"
   ]
  },
  {
   "cell_type": "markdown",
   "metadata": {},
   "source": [
    "- Recursive digit sum:"
   ]
  },
  {
   "cell_type": "code",
   "execution_count": null,
   "metadata": {},
   "outputs": [],
   "source": [
    "#!/bin/python3\n",
    "\n",
    "import math\n",
    "import os\n",
    "import random\n",
    "import re\n",
    "import sys\n",
    "\n",
    "# Complete the superDigit function below.\n",
    "def superDigit(n, k):\n",
    "\n",
    "    lst_p = list(map(int, n[:])) # Let's convert the sting in a list\n",
    "    sum_p = sum(lst_p)*k # From math a*3 + b*3 = (a+b)*3\n",
    "\n",
    "    iter = list(map(int, str(sum_p))) # Every time I have to do the sum of the new string (value of the sum of the element of the previous)\n",
    "\n",
    "    while len(iter) > 1: # I do this untill I have a number 0<n<9 ==> len = 1\n",
    "        super = sum(iter)\n",
    "        iter = list(map(int, str(super))) # Every time I must change the number to check\n",
    "\n",
    "    return iter[0]\n",
    "\n",
    "# THIS PART DOSEN'T WORK BECAUSE OUTPUT_PATH DOSEN'T EXIST (IT SHOULD BE RUN ONLY ON HackerRank)\n",
    "\n",
    "if __name__ == '__main__':\n",
    "    fptr = open(os.environ['OUTPUT_PATH'], 'w')\n",
    "\n",
    "    nk = input().split()\n",
    "\n",
    "    n = nk[0]\n",
    "\n",
    "    k = int(nk[1])\n",
    "\n",
    "    result = superDigit(n, k)\n",
    "\n",
    "    fptr.write(str(result) + '\\n')\n",
    "\n",
    "    fptr.close()\n"
   ]
  },
  {
   "cell_type": "markdown",
   "metadata": {},
   "source": [
    "- Insertion Sort 1:"
   ]
  },
  {
   "cell_type": "code",
   "execution_count": null,
   "metadata": {},
   "outputs": [],
   "source": [
    "#!/bin/python3\n",
    "\n",
    "import math\n",
    "import os\n",
    "import random\n",
    "import re\n",
    "import sys\n",
    "\n",
    "# Complete the insertionSort1 function below.\n",
    "def insertionSort1(n, arr):\n",
    "\n",
    "    # The last position of our array is n-1 because the length is n and the count start from 1\n",
    "    # Let's store it and use to compare with other values\n",
    "    \n",
    "    box = arr[n - 1]\n",
    "    \n",
    "    # Let's define \"position\" as an element that from the second to last element scrolls down till the first (arr[0])\n",
    "    # If the element in the position is bigger than the element in the box it means that we must go head till the position is lower than the box \n",
    "    # and every time we copy to the forward element of the array with the position, \n",
    "    # because in this way we can replace in the next step the position element with the next or with the box\n",
    "    # Find the right position we replace the value of the position with the one in the box\n",
    "    \n",
    "    for i in range(1, n):\n",
    "        position = arr[n - 1 - i]\n",
    "        if box < position:\n",
    "            arr[n - i] = position\n",
    "            print(\" \".join(list(map(str, [x for x in arr]))))\n",
    "        elif position < box:\n",
    "            arr[n - i] = box\n",
    "            break\n",
    "    # It can happen that the bow must replace the first element of the array. In this case the for loop will finish, \n",
    "    # but without comparing the first element with the box (because of the structure of our code)\n",
    "    # So in this case we know that the box must be in the first position (we know that we are in this case \n",
    "    # because when we do the las cycle we copy the first element also in the second position without changing anything)\n",
    "    \n",
    "    if arr[0] == arr[1]:\n",
    "        arr[0] = box\n",
    "    print(\" \".join(list(map(str, [x for x in arr]))))\n",
    "\n",
    "if __name__ == '__main__':\n",
    "    n = int(input())\n",
    "\n",
    "    arr = list(map(int, input().rstrip().split()))\n",
    "\n",
    "    insertionSort1(n, arr)"
   ]
  },
  {
   "cell_type": "markdown",
   "metadata": {},
   "source": [
    "- Insertion Sort 2:"
   ]
  },
  {
   "cell_type": "code",
   "execution_count": null,
   "metadata": {},
   "outputs": [],
   "source": [
    "#!/bin/python3\n",
    "\n",
    "import math\n",
    "import os\n",
    "import random\n",
    "import re\n",
    "import sys\n",
    "\n",
    "# Complete the insertionSort2 function below.\n",
    "def insertionSort2(n, arr):\n",
    "\n",
    "    # Let's start from the element 2 (arr[1]) and go head. Now we must compare our element with the previous ones.\n",
    "    # If it is bigger than the previous one we just leave the number where it is, else we change the position with the previous one\n",
    "    # and and we compare our number with the new previous untill our number is bigger than the previous.\n",
    "    # Finally we place our number in the new position we have found.\n",
    "    # The idea is that each time our number is smaller than the previous we move the checked element the other checked to the right.\n",
    "    # That's why at the end we must specify the position of our number, because its origina one has been taken.\n",
    "    \n",
    "    for i in range(1, n):\n",
    "        element = arr[i]\n",
    "        iter = i - 1\n",
    "        while iter >= 0 and arr[iter] > element:\n",
    "            arr[iter + 1] = arr[iter]\n",
    "            iter = iter - 1\n",
    "        arr[iter + 1] = element\n",
    "\n",
    "        print(arr)\n",
    "\n",
    "if __name__ == '__main__':\n",
    "    \n",
    "    n = int(input())\n",
    "\n",
    "    arr = list(map(int, input().rstrip().split()))\n",
    "\n",
    "    insertionSort2(n, arr)"
   ]
  }
 ],
 "metadata": {
  "kernelspec": {
   "display_name": "Python 3",
   "language": "python",
   "name": "python3"
  },
  "language_info": {
   "codemirror_mode": {
    "name": "ipython",
    "version": 3
   },
   "file_extension": ".py",
   "mimetype": "text/x-python",
   "name": "python",
   "nbconvert_exporter": "python",
   "pygments_lexer": "ipython3",
   "version": "3.7.3"
  }
 },
 "nbformat": 4,
 "nbformat_minor": 2
}
